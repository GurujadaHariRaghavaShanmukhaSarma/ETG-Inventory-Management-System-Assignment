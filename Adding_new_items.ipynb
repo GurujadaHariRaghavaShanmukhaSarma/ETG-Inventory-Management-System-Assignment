{
  "nbformat": 4,
  "nbformat_minor": 0,
  "metadata": {
    "colab": {
      "name": "Adding new items.ipynb",
      "provenance": []
    },
    "kernelspec": {
      "name": "python3",
      "display_name": "Python 3"
    },
    "language_info": {
      "name": "python"
    }
  },
  "cells": [
    {
      "cell_type": "code",
      "metadata": {
        "id": "3gihke5zOVAU"
      },
      "source": [
        "import json\n",
        "fd=open(\"record.json\",'r')\n",
        "r=fd.read()\n",
        "fd.close()"
      ],
      "execution_count": 23,
      "outputs": []
    },
    {
      "cell_type": "code",
      "metadata": {
        "id": "IquqBjjFOXpR"
      },
      "source": [
        "record=json.loads(r)"
      ],
      "execution_count": 24,
      "outputs": []
    },
    {
      "cell_type": "code",
      "metadata": {
        "colab": {
          "base_uri": "https://localhost:8080/"
        },
        "id": "b7DeIfRTO4It",
        "outputId": "80de668a-16f8-41b7-a9dc-f7e7a28ba7f3"
      },
      "source": [
        "record"
      ],
      "execution_count": 25,
      "outputs": [
        {
          "output_type": "execute_result",
          "data": {
            "text/plain": [
              "{'1001': {'name': 'Choco Cake', 'pr': 100, 'qn': 34},\n",
              " '1002': {'name': 'Milk Cake', 'pr': 800, 'qn': 100},\n",
              " '1003': {'name': 'Drink', 'pr': 85, 'qn': 100},\n",
              " '1004': {'name': 'Candy', 'pr': 5, 'qn': 1000},\n",
              " '1005': {'name': 'Pen', 'pr': 20, 'qn': 100},\n",
              " '1006': {'name': 'Phone', 'pr': 50000, 'qn': 10},\n",
              " '1007': {'name': 'Mic', 'pr': 1500, 'qn': 0},\n",
              " '1008': {'name': 'Case', 'pr': 599, 'qn': 5},\n",
              " '1009': {'name': 'Keyboard', 'pr': 1999, 'qn': 10}}"
            ]
          },
          "metadata": {},
          "execution_count": 25
        }
      ]
    },
    {
      "cell_type": "code",
      "metadata": {
        "colab": {
          "base_uri": "https://localhost:8080/"
        },
        "id": "u130SPnZO8ZU",
        "outputId": "f3d3fbc2-47c8-439a-e50b-54f4767936fe"
      },
      "source": [
        "list1=[]\n",
        "for i in record.keys():\n",
        "  list1.append(i)\n",
        "print(list1)"
      ],
      "execution_count": 26,
      "outputs": [
        {
          "output_type": "stream",
          "name": "stdout",
          "text": [
            "['1001', '1002', '1003', '1004', '1005', '1006', '1007', '1008', '1009']\n"
          ]
        }
      ]
    },
    {
      "cell_type": "code",
      "metadata": {
        "colab": {
          "base_uri": "https://localhost:8080/"
        },
        "id": "4NajkZkoPkU1",
        "outputId": "1b4219ae-f836-4c5d-fb4a-f45b17c6466c"
      },
      "source": [
        "for j in list1:\n",
        "  print(j,record[j])\n",
        "  ma=str(input(\"Enter manufacturing date:\"))\n",
        "  ex=str(input(\"Enter expiry date:\"))\n",
        "  wa=int(input(\"Enter warranty in months:\"))\n",
        "  record[j]['ma']=ma\n",
        "  record[j]['ex']=ex\n",
        "  record[j]['wa']=wa\n",
        "print(record)"
      ],
      "execution_count": 27,
      "outputs": [
        {
          "output_type": "stream",
          "name": "stdout",
          "text": [
            "1001 {'name': 'Choco Cake', 'qn': 34, 'pr': 100}\n",
            "Enter manufacturing date:12-8-2021\n",
            "Enter expiry date:12-9-2021\n",
            "Enter warranty in months:0\n",
            "1002 {'name': 'Milk Cake', 'pr': 800, 'qn': 100}\n",
            "Enter manufacturing date:13-8-2021\n",
            "Enter expiry date:12-9-2021\n",
            "Enter warranty in months:0\n",
            "1003 {'name': 'Drink', 'pr': 85, 'qn': 100}\n",
            "Enter manufacturing date:21-6-2021\n",
            "Enter expiry date:12-9-2022\n",
            "Enter warranty in months:0\n",
            "1004 {'name': 'Candy', 'pr': 5, 'qn': 1000}\n",
            "Enter manufacturing date:13-3-2021\n",
            "Enter expiry date:15-6-2022\n",
            "Enter warranty in months:0\n",
            "1005 {'name': 'Pen', 'pr': 20, 'qn': 100}\n",
            "Enter manufacturing date:13-7-2021\n",
            "Enter expiry date:No\n",
            "Enter warranty in months:3\n",
            "1006 {'name': 'Phone', 'pr': 50000, 'qn': 10}\n",
            "Enter manufacturing date:16-8-2021\n",
            "Enter expiry date:No\n",
            "Enter warranty in months:24\n",
            "1007 {'name': 'Mic', 'pr': 1500, 'qn': 0}\n",
            "Enter manufacturing date:16-6-2021\n",
            "Enter expiry date:No\n",
            "Enter warranty in months:12\n",
            "1008 {'name': 'Case', 'pr': 599, 'qn': 5}\n",
            "Enter manufacturing date:22-3-2021\n",
            "Enter expiry date:No\n",
            "Enter warranty in months:6\n",
            "1009 {'name': 'Keyboard', 'pr': 1999, 'qn': 10}\n",
            "Enter manufacturing date:12-5-2021\n",
            "Enter expiry date:No\n",
            "Enter warranty in months:9\n",
            "{'1001': {'name': 'Choco Cake', 'qn': 34, 'pr': 100, 'ma': '12-8-2021', 'ex': '12-9-2021', 'wa': 0}, '1002': {'name': 'Milk Cake', 'pr': 800, 'qn': 100, 'ma': '13-8-2021', 'ex': '12-9-2021', 'wa': 0}, '1003': {'name': 'Drink', 'pr': 85, 'qn': 100, 'ma': '21-6-2021', 'ex': '12-9-2022', 'wa': 0}, '1004': {'name': 'Candy', 'pr': 5, 'qn': 1000, 'ma': '13-3-2021', 'ex': '15-6-2022', 'wa': 0}, '1005': {'name': 'Pen', 'pr': 20, 'qn': 100, 'ma': '13-7-2021', 'ex': 'No', 'wa': 3}, '1006': {'name': 'Phone', 'pr': 50000, 'qn': 10, 'ma': '16-8-2021', 'ex': 'No', 'wa': 24}, '1007': {'name': 'Mic', 'pr': 1500, 'qn': 0, 'ma': '16-6-2021', 'ex': 'No', 'wa': 12}, '1008': {'name': 'Case', 'pr': 599, 'qn': 5, 'ma': '22-3-2021', 'ex': 'No', 'wa': 6}, '1009': {'name': 'Keyboard', 'pr': 1999, 'qn': 10, 'ma': '12-5-2021', 'ex': 'No', 'wa': 9}}\n"
          ]
        }
      ]
    },
    {
      "cell_type": "markdown",
      "metadata": {
        "id": "nTBiCibISbOu"
      },
      "source": [
        "##Adding new products to the inventory"
      ]
    },
    {
      "cell_type": "code",
      "metadata": {
        "id": "5FTLbVGuSY7d"
      },
      "source": [
        "prod_id=str(input(\"Enter product id:\"))\n",
        "for k in list1:\n",
        "  if k==prod_id:\n",
        "    print(\"Item already exists and its details are:\")\n",
        "    print('id',k)\n",
        "    print('name',record[k]['name'])\n",
        "    print('existing quantity',record[k]['qn'])\n",
        "    print('price',record[k]['pr'])\n",
        "    print('manufacturing date',record[k]['ma'])\n",
        "    print('expiry date',record[k]['ex'])\n",
        "    print('warranty',record[k]['wa'])\n",
        "    record[k]['qn']=int(input(\"Enter quantity to add to the inventory:\"))+record[k]['qn']\n",
        "name=str(input('Enter name:'))\n",
        "quant=int(input(\"Enter quantity:\"))\n",
        "price=int(input(\"Enter price:\"))\n",
        "man=str(input(\"Enter manufacturing date:\"))\n",
        "exp=str(input(\"Enter expiry date:\"))\n",
        "warr=int(input(\"Enter warranty in months:\"))\n",
        "record[prod_id]={'name':name,'qn':quant,'pr':price,'ma':man,'ex':exp,'wa':warr}\n",
        "print(record)"
      ],
      "execution_count": null,
      "outputs": []
    },
    {
      "cell_type": "code",
      "metadata": {
        "colab": {
          "base_uri": "https://localhost:8080/"
        },
        "id": "6fLoxNpFb69p",
        "outputId": "098b5e3e-1c76-4e98-d5b2-3303f16494b2"
      },
      "source": [
        "print(record)"
      ],
      "execution_count": 60,
      "outputs": [
        {
          "output_type": "stream",
          "name": "stdout",
          "text": [
            "{'1001': {'name': 'Choco Cake', 'qn': 66, 'pr': 100, 'ma': '12-8-2021', 'ex': '12-9-2021', 'wa': 0}, '1002': {'name': 'Milk Cake', 'pr': 800, 'qn': 100, 'ma': '13-8-2021', 'ex': '12-9-2021', 'wa': 0}, '1003': {'name': 'Drink', 'pr': 85, 'qn': 100, 'ma': '21-6-2021', 'ex': '12-9-2022', 'wa': 0}, '1004': {'name': 'Candy', 'pr': 5, 'qn': 1000, 'ma': '13-3-2021', 'ex': '15-6-2022', 'wa': 0}, '1005': {'name': 'Pen', 'pr': 20, 'qn': 100, 'ma': '13-7-2021', 'ex': 'No', 'wa': 3}, '1006': {'name': 'Phone', 'pr': 50000, 'qn': 10, 'ma': '16-8-2021', 'ex': 'No', 'wa': 24}, '1007': {'name': 'Mic', 'pr': 1500, 'qn': 0, 'ma': '16-6-2021', 'ex': 'No', 'wa': 12}, '1008': {'name': 'Case', 'pr': 599, 'qn': 5, 'ma': '22-3-2021', 'ex': 'No', 'wa': 6}, '1009': {'name': 'Keyboard', 'pr': 1999, 'qn': 10, 'ma': '12-5-2021', 'ex': 'No', 'wa': 9}, '1010': {'name': 'Calculator', 'qn': 98, 'pr': 800, 'ma': '12-8-2021', 'ex': 'No', 'wa': 36}, '1011': {'name': 'mouse', 'qn': 30, 'pr': 250, 'ma': '12-8-2021', 'ex': 'No', 'wa': 2}, '1012': {'name': 'Books', 'qn': 40, 'pr': 30, 'ma': '16-7-2021', 'ex': 'No', 'wa': 0}, '1013': {'name': 'Laptop', 'qn': 60, 'pr': 50000, 'ma': '17-6-2021', 'ex': 'No', 'wa': 24}, '1014': {'name': 'Bottle', 'qn': 25, 'pr': 50, 'ma': '28-3-2021', 'ex': 'No', 'wa': 0}, '1015': {'name': 'Samosa', 'qn': 100, 'pr': 10, 'ma': '6-9-2021', 'ex': '8-9-2021', 'wa': 0}, '1016': {'name': 'Jam', 'qn': 15, 'pr': 60, 'ma': '6-9-2021', 'ex': '8-9-2021', 'wa': 0}, 'Pineapple': {'name': 'Pineapple', 'qn': 20, 'pr': 25, 'ma': 'No', 'ex': 'No', 'wa': 0}, '1018': {'name': 'Charger', 'qn': 50, 'pr': 100, 'ma': '2-6-2021', 'ex': 'No', 'wa': 0}, 'Scale': {'name': 'Scale', 'qn': 70, 'pr': 5, 'ma': '3-7-2021', 'ex': 'No', 'wa': 0}, '1020': {'name': 'Eraser', 'qn': 200, 'pr': 7, 'ma': '2-1-2021', 'ex': 'No', 'wa': 0}, '1021': {'name': 'Sharpner', 'qn': 200, 'pr': 7, 'ma': '2-1-2021', 'ex': 'No', 'wa': 0}, '1022': {'name': 'Tshirt', 'qn': 125, 'pr': 120, 'ma': '13-3-2021', 'ex': 'No', 'wa': 0}, '1023': {'name': 'Umbrella', 'qn': 95, 'pr': 350, 'ma': '13-4-2021', 'ex': 'No', 'wa': 0}, '1024': {'name': 'Raincoat', 'qn': 35, 'pr': 500, 'ma': '12-6-2021', 'ex': 'No', 'wa': 3}, '1025': {'name': 'Study Table', 'qn': 8, 'pr': 1000, 'ma': '14-5-2021', 'ex': 'No', 'wa': 0}, '1026': {'name': 'Tube Light', 'qn': 26, 'pr': 700, 'ma': '5-5-2021', 'ex': 'No', 'wa': 2}, 'TV': {'name': 'TV', 'qn': 20, 'pr': 25000, 'ma': '3-3-2021', 'ex': 'No', 'wa': 6}, '1028': {'name': 'AC', 'qn': 2, 'pr': 40000, 'ma': '5-6-2021', 'ex': 'No', 'wa': 24}, '1029': {'name': 'Pizza', 'qn': 8, 'pr': 70, 'ma': '6-9-2021', 'ex': '8-9-2021', 'wa': 0}, '1030': {'name': 'Burger', 'qn': 12, 'pr': 50, 'ma': '6-9-2021', 'ex': '8-9-2021', 'wa': 0}, '1031': {'name': 'Hometheatre', 'qn': 45, 'pr': 5000, 'ma': '12-4-2021', 'ex': 'No', 'wa': 5}, '1032': {'name': 'Phonescreen', 'qn': 40, 'pr': 200, 'ma': '12-5-2021', 'ex': 'No', 'wa': 0}, '1033': {'name': 'Guitar', 'qn': 5, 'pr': 10000, 'ma': '13-6-2021', 'ex': 'No', 'wa': 15}}\n"
          ]
        }
      ]
    },
    {
      "cell_type": "code",
      "metadata": {
        "id": "mKL4hxbtjocG"
      },
      "source": [
        "js=json.dumps(record)\n",
        "fd=open(\"record.json\",'w')\n",
        "fd.write(js)\n",
        "fd.close()"
      ],
      "execution_count": 61,
      "outputs": []
    },
    {
      "cell_type": "code",
      "metadata": {
        "id": "1baHFTEXnAKl"
      },
      "source": [
        ""
      ],
      "execution_count": null,
      "outputs": []
    }
  ]
}