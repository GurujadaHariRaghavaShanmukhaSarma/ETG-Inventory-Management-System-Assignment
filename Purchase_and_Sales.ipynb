{
  "nbformat": 4,
  "nbformat_minor": 0,
  "metadata": {
    "colab": {
      "name": "Purchase and Sales.ipynb",
      "provenance": [],
      "collapsed_sections": []
    },
    "kernelspec": {
      "name": "python3",
      "display_name": "Python 3"
    },
    "language_info": {
      "name": "python"
    }
  },
  "cells": [
    {
      "cell_type": "markdown",
      "metadata": {
        "id": "swU-cOMzpFHX"
      },
      "source": [
        "Asking User regarding purchase"
      ]
    },
    {
      "cell_type": "code",
      "metadata": {
        "id": "l8cQLXtbn5p3"
      },
      "source": [
        "import json\n",
        "fd=open(\"record.json\",'r')\n",
        "r=fd.read()\n",
        "fd.close\n",
        "records=json.loads(r)"
      ],
      "execution_count": 16,
      "outputs": []
    },
    {
      "cell_type": "code",
      "metadata": {
        "colab": {
          "base_uri": "https://localhost:8080/"
        },
        "id": "x9VKP_d9pYLe",
        "outputId": "076bc6d7-cf34-4fe4-8f57-3e4dc3661404"
      },
      "source": [
        "ui_prod=str(input(\"Enter the prod_id:\"))\n",
        "ui_quant=int(input(\"Enter the quantity:\"))\n",
        "list2=[]\n",
        "for a in records.keys():\n",
        "  list2.append(a)\n",
        "for b in list2:\n",
        "  if (b==ui_prod) and (ui_quant<=records[b]['qn']):\n",
        "    n=str(input('Enter your name:'))\n",
        "    p=int(input(\"enter phone number:\"))\n",
        "    print(\"Product:\",records[b]['name'])\n",
        "    print(\"Price:\",records[b]['pr'])\n",
        "    print(\"Billing amount:\",records[b]['pr']*ui_quant)\n",
        "    records[b]['qn']=records[b]['qn']-ui_quant\n",
        "    print('***********************************')\n",
        "    print(\"Sale Details\")\n",
        "    print(\"Name of the buyer:\",n)\n",
        "    print(\"Phone number of the buyer:\",p)\n",
        "    print(\"Item purchased:\",records[b]['name'])\n",
        "    print(\"Quantity purchased:\",int(ui_quant))\n",
        "    print('************************************')\n",
        "\n",
        "for c in list2:\n",
        "  if (c==ui_prod) and (ui_quant>records[c]['qn']):\n",
        "    print(\"Sorry Not having the required quantity\")\n",
        "d=0\n",
        "for e in list2:\n",
        "  if (e==ui_prod):\n",
        "    d=1\n",
        "if d==0:\n",
        "  print(\"Product id does not exist\")\n"
      ],
      "execution_count": 18,
      "outputs": [
        {
          "output_type": "stream",
          "name": "stdout",
          "text": [
            "Enter the prod_id:1001\n",
            "Enter the quantity:1\n",
            "Enter your name:Shanmukha\n",
            "enter phone number:9246433446\n",
            "Product: Choco Cake\n",
            "Price: 100\n",
            "Billing amount: 100\n",
            "***********************************\n",
            "Sale Details\n",
            "Name of the buyer: Shanmukha\n",
            "Phone number of the buyer: 9246433446\n",
            "Item purchased: Choco Cake\n",
            "Quantity purchased: 1\n",
            "************************************\n"
          ]
        }
      ]
    },
    {
      "cell_type": "code",
      "metadata": {
        "id": "FXmuYALHqRDk"
      },
      "source": [
        "js=json.dumps(records)\n",
        "fd=open(\"record.json\",'w')\n",
        "fd.write(js)\n",
        "fd.close()"
      ],
      "execution_count": 19,
      "outputs": []
    },
    {
      "cell_type": "code",
      "metadata": {
        "id": "1AqMQP3UvN49"
      },
      "source": [
        ""
      ],
      "execution_count": null,
      "outputs": []
    }
  ]
}